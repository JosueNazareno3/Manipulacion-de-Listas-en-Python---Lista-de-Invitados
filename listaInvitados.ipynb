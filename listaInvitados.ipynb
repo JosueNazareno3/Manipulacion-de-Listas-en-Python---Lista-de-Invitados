{
 "cells": [
  {
   "cell_type": "markdown",
   "id": "c6f80554",
   "metadata": {},
   "source": [
    "**Lista de Invitados**\n",
    "\n",
    "·         Crea una lista llamada invitados que incluya al menos tres personas (reales o ficticias) que te gustaría invitar a cenar.\n",
    "\n",
    "·         Utiliza la lista para imprimir un mensaje personalizado invitando a cada persona a cenar."
   ]
  },
  {
   "cell_type": "code",
   "execution_count": 5,
   "id": "bfb35582",
   "metadata": {},
   "outputs": [
    {
     "name": "stdout",
     "output_type": "stream",
     "text": [
      "Hola Zahara, me encantaría invitarte a cenar.\n",
      "Hola Thales, me encantaría invitarte a cenar.\n",
      "Hola Nerea, me encantaría invitarte a cenar.\n",
      "Hola Axel, me encantarte invitarte a cenar.\n",
      "Hola Vega, me encantaría invitarte a cenar.\n"
     ]
    }
   ],
   "source": [
    "# Crear lista de invitados\n",
    "invitados = [\"Zahara\", \"Thales\", \"Nerea\", \"Axel\", \"Vega\"]\n",
    "\n",
    "# Imprimir mensaje de invitación para cada persona\n",
    "print(f\"Hola {invitados[0]}, me encantaría invitarte a cenar.\")\n",
    "print(f\"Hola {invitados[1]}, me encantaría invitarte a cenar.\")\n",
    "print(f\"Hola {invitados[2]}, me encantaría invitarte a cenar.\")\n",
    "print(f\"Hola {invitados[3]}, me encantarte invitarte a cenar.\")\n",
    "print(f\"Hola {invitados[4]}, me encantaría invitarte a cenar.\")"
   ]
  },
  {
   "cell_type": "markdown",
   "id": "21105cc8",
   "metadata": {},
   "source": [
    "**CAMBIO EN LA LISTA DE INVITADOS**\n",
    "\n",
    "·         Parte del código del ejercicio anterior.\n",
    "\n",
    "·         Agrega una llamada a print() que muestre el nombre del invitado que no podrá asistir.\n",
    "\n",
    "·         Modifica la lista, reemplazando el nombre del invitado que no asistirá con el de una nueva persona.\n",
    "\n",
    "·         Imprime un nuevo conjunto de mensajes de invitación, uno para cada persona que sigue en la lista."
   ]
  },
  {
   "cell_type": "code",
   "execution_count": 11,
   "id": "2fd7cd2e",
   "metadata": {},
   "outputs": [
    {
     "name": "stdout",
     "output_type": "stream",
     "text": [
      "Hola Zahara, me encantaría invitarte a cenar.\n",
      "Hola Thales, me encantaría invitarte a cenar.\n",
      "Hola Nerea, me encantaría invitarte a cenar.\n",
      "Hola Axel, me encantaría invitarte a cenar.\n",
      "Hola Vega, me encantaría invitarte a cenar.\n",
      "\n",
      "Lamentablemente, Thales no podrá asistir a la cena.\n",
      "\n",
      "Hola Zahara, me encantaría invitarte a cenar.\n",
      "Hola Lior, me encantaría invitarte a cenar.\n",
      "Hola Nerea, me encantaría invitarte a cenar.\n",
      "Hola Axel, me encantaría invitarte a cenar.\n",
      "Hola Vega, me encantaría invitarte a cenar.\n"
     ]
    }
   ],
   "source": [
    "# Lista de invitados original\n",
    "invitados = [\"Zahara\", \"Thales\", \"Nerea\", \"Axel\", \"Vega\"]\n",
    "\n",
    "# Imprimir invitaciones originales\n",
    "print(f\"Hola {invitados[0]}, me encantaría invitarte a cenar.\")\n",
    "print(f\"Hola {invitados[1]}, me encantaría invitarte a cenar.\")\n",
    "print(f\"Hola {invitados[2]}, me encantaría invitarte a cenar.\")\n",
    "print(f\"Hola {invitados[3]}, me encantaría invitarte a cenar.\")\n",
    "print(f\"Hola {invitados[4]}, me encantaría invitarte a cenar.\")\n",
    "\n",
    "# Un invitado no podrá asistir\n",
    "print(\"\\nLamentablemente, Thales no podrá asistir a la cena.\\n\")\n",
    "\n",
    "# Cambiar Thales por otra persona\n",
    "invitados[1] = \"Lior\"\n",
    "\n",
    "# Nuevas invitaciones\n",
    "print(f\"Hola {invitados[0]}, me encantaría invitarte a cenar.\")\n",
    "print(f\"Hola {invitados[1]}, me encantaría invitarte a cenar.\")\n",
    "print(f\"Hola {invitados[2]}, me encantaría invitarte a cenar.\")\n",
    "print(f\"Hola {invitados[3]}, me encantaría invitarte a cenar.\")\n",
    "print(f\"Hola {invitados[4]}, me encantaría invitarte a cenar.\")"
   ]
  },
  {
   "cell_type": "markdown",
   "id": "9b33b8ba",
   "metadata": {},
   "source": [
    "**MÁS INVITADOS**\n",
    "\n",
    "·        Parte del código del ejercicio anterior.\n",
    "\n",
    "·         Agrega una llamada a print() informando que hay una mesa más grande disponible.\n",
    "\n",
    "·         Usa insert() para agregar un nuevo invitado al inicio de la lista.\n",
    "\n",
    "·         Usa insert() para agregar un nuevo invitado al medio de la lista.\n",
    "\n",
    "·         Usa append() para agregar un nuevo invitado al final de la lista.\n",
    "\n",
    "·         Imprime un nuevo conjunto de mensajes de invitación, uno para cada persona en la lista."
   ]
  },
  {
   "cell_type": "code",
   "execution_count": 12,
   "id": "2165b69c",
   "metadata": {},
   "outputs": [
    {
     "name": "stdout",
     "output_type": "stream",
     "text": [
      "Hola Zahara, me encantaría invitarte a cenar.\n",
      "Hola Lior, me encantaría invitarte a cenar.\n",
      "Hola Nerea, me encantaría invitarte a cenar.\n",
      "Hola Axel, me encantaría invitarte a cenar.\n",
      "Hola Vega, me encantaría invitarte a cenar.\n",
      "\n",
      "¡Hay una mesa más grande disponible! Agregaremos más invitados.\n",
      "\n",
      "Hola Arwen, me encantaría invitarte a cenar.\n",
      "Hola Zahara, me encantaría invitarte a cenar.\n",
      "Hola Lior, me encantaría invitarte a cenar.\n",
      "Hola Lira, me encantaría invitarte a cenar.\n",
      "Hola Nerea, me encantaría invitarte a cenar.\n",
      "Hola Axel, me encantaría invitarte a cenar.\n",
      "Hola Vega, me encantaría invitarte a cenar.\n"
     ]
    }
   ],
   "source": [
    "# Lista de invitados original\n",
    "invitados = [\"Zahara\", \"Lior\", \"Nerea\", \"Axel\", \"Vega\"]\n",
    "\n",
    "# Invitaciones iniciales\n",
    "print(f\"Hola {invitados[0]}, me encantaría invitarte a cenar.\")\n",
    "print(f\"Hola {invitados[1]}, me encantaría invitarte a cenar.\")\n",
    "print(f\"Hola {invitados[2]}, me encantaría invitarte a cenar.\")\n",
    "print(f\"Hola {invitados[3]}, me encantaría invitarte a cenar.\")\n",
    "print(f\"Hola {invitados[4]}, me encantaría invitarte a cenar.\")\n",
    "\n",
    "# Mesa más grande\n",
    "print(\"\\n¡Hay una mesa más grande disponible! Agregaremos más invitados.\\n\")\n",
    "\n",
    "# Insertar nuevos invitados\n",
    "invitados.insert(0, \"Arwen\")  # Al inicio\n",
    "invitados.insert(3, \"Lira\")   # En el medio\n",
    "invitados.append(\"Zephyr\")    # Al final\n",
    "\n",
    "# Nuevas invitaciones\n",
    "print(f\"Hola {invitados[0]}, me encantaría invitarte a cenar.\")\n",
    "print(f\"Hola {invitados[1]}, me encantaría invitarte a cenar.\")\n",
    "print(f\"Hola {invitados[2]}, me encantaría invitarte a cenar.\")\n",
    "print(f\"Hola {invitados[3]}, me encantaría invitarte a cenar.\")\n",
    "print(f\"Hola {invitados[4]}, me encantaría invitarte a cenar.\")\n",
    "print(f\"Hola {invitados[5]}, me encantaría invitarte a cenar.\")\n",
    "print(f\"Hola {invitados[6]}, me encantaría invitarte a cenar.\")\n"
   ]
  },
  {
   "cell_type": "markdown",
   "id": "fe9fb5eb",
   "metadata": {},
   "source": [
    "**REDUCCIÓN DE LA LISTA DE INVITADOS**\n",
    "\n",
    "·         Parte del código del ejercicio anterior.\n",
    "\n",
    "·         Agrega una llamada a print() indicando que solo se puede invitar a dos personas.\n",
    "\n",
    "·         Utiliza pop() para eliminar invitados de la lista uno por uno hasta que solo queden dos nombres. Cada vez que elimines un nombre, imprime un mensaje disculpándote por no poder invitarlo.\n",
    "\n",
    "·         Imprime un mensaje a las dos personas que siguen en la lista, confirmando su invitación.\n",
    "\n",
    "·         Usa del para eliminar los dos nombres restantes, dejando la lista vacía. Imprime la lista para verificar que esté vacía al final."
   ]
  },
  {
   "cell_type": "code",
   "execution_count": 16,
   "id": "fd61ba05",
   "metadata": {},
   "outputs": [
    {
     "name": "stdout",
     "output_type": "stream",
     "text": [
      "\n",
      "Lamentablemente solo puedo invitar a dos personas.\n",
      "\n",
      "Lamento mucho Zephyr, no puedo invitarte a la cena.\n",
      "Lamento mucho Vega, no puedo invitarte a la cena.\n",
      "Lamento mucho Axel, no puedo invitarte a la cena.\n",
      "Lamento mucho Nerea, no puedo invitarte a la cena.\n",
      "Lamento mucho Lior, no puedo invitarte a la cena.\n",
      "\n",
      "Arwen, ¡estás invitado a la cena!\n",
      "Zahara, ¡estás invitado a la cena!\n",
      "\n",
      "Lista de invitados final: ['Arwen', 'Zahara']\n"
     ]
    }
   ],
   "source": [
    "# Lista de invitados actualizada\n",
    "invitados = [\"Arwen\", \"Zahara\", \"Lior\", \"Nerea\", \"Axel\", \"Vega\", \"Zephyr\"]\n",
    "\n",
    "# Mensaje indicando que solo se puede invitar a dos personas\n",
    "print(\"\\nLamentablemente solo puedo invitar a dos personas.\\n\")\n",
    "\n",
    "# Eliminar invitados hasta que solo queden dos\n",
    "print(f\"Lamento mucho {invitados.pop()}, no puedo invitarte a la cena.\")\n",
    "print(f\"Lamento mucho {invitados.pop()}, no puedo invitarte a la cena.\")\n",
    "print(f\"Lamento mucho {invitados.pop()}, no puedo invitarte a la cena.\")\n",
    "print(f\"Lamento mucho {invitados.pop()}, no puedo invitarte a la cena.\")\n",
    "print(f\"Lamento mucho {invitados.pop()}, no puedo invitarte a la cena.\")\n",
    "\n",
    "# Confirmar las invitaciones a los dos restantes\n",
    "print(f\"\\n{invitados[0]}, ¡estás invitado a la cena!\")\n",
    "print(f\"{invitados[1]}, ¡estás invitado a la cena!\")\n",
    "\n",
    "# Imprimir lista final de invitados\n",
    "print(f\"\\nLista de invitados final: {invitados}\")\n"
   ]
  }
 ],
 "metadata": {
  "kernelspec": {
   "display_name": ".venv",
   "language": "python",
   "name": "python3"
  },
  "language_info": {
   "codemirror_mode": {
    "name": "ipython",
    "version": 3
   },
   "file_extension": ".py",
   "mimetype": "text/x-python",
   "name": "python",
   "nbconvert_exporter": "python",
   "pygments_lexer": "ipython3",
   "version": "3.12.10"
  }
 },
 "nbformat": 4,
 "nbformat_minor": 5
}
